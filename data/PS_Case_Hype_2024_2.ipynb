{
  "nbformat": 4,
  "nbformat_minor": 0,
  "metadata": {
    "colab": {
      "provenance": []
    },
    "kernelspec": {
      "name": "python3",
      "display_name": "Python 3"
    },
    "language_info": {
      "name": "python"
    }
  },
  "cells": [
    {
      "cell_type": "markdown",
      "source": [
        "# **Case Avançado Hype 2024_2**\n",
        "\n",
        "## **Introdução**\n",
        "\n",
        "O desafio deste case é desenvolver um projeto de análise e predição utilizando um conjunto de dados sobre a satisfação dos passageiros de uma companhia aérea. O objetivo é identificar os fatores que mais influenciam a satisfação dos clientes e, a partir disso, criar um modelo preditivo que consiga antecipar, com base nas informações fornecidas, se um passageiro estará satisfeito, insatisfeito ou neutro em relação ao serviço da companhia aérea.\n",
        "\n",
        "Esse tipo de análise é crucial para empresas do setor aéreo, pois permite identificar os pontos fortes e as áreas que precisam de melhorias para proporcionar uma experiência de voo mais agradável e aumentar a fidelidade dos clientes. Utilizando técnicas de machine learning, você será capaz de descobrir padrões importantes nos dados e fornecer recomendações práticas para a melhoria dos serviços oferecidos.\n",
        "\n",
        "## **Instuções**\n",
        "\n",
        "O case tem como objetivo verificar se o candidato tem conhecimento o suficiente para fazer um projeto de classificação de dados utilizando algoritmos de Machine Learing. O notebook abaixo dá as instruções do que deve ser feito em cada etapa do projeto\n",
        "\n",
        "Você deve escrever seus códigos nas células que estão com os termos \"TO-DO\". Pode inserir quantas célular achar necessário, mas não altere a ordem das resoluções.\n",
        "\n",
        "Além da corretude, será avaliado também a organização e a lógica utilizada. O candidato deve deixar claro os motivos das escolhas que fizer no projeto (porque aplicou algum tratamento, algoritmo ou por que utilizou as variáveis que utilizou).\n",
        "\n",
        "Entregas incompletas também serão aceitas. Os avaliadores irão analisar cada situação, então se não conseguir fazer tudo recomendamos que submeta o case mesmo assim\n",
        "\n",
        "## **Sobre o dataset**\n",
        "\n",
        "O dataset possui várias colunas que indicam diferentes características dos passageiros e suas percepções sobre os serviços da companhia aérea. Aqui tem uma breve descrição delas. A variável que será prevista nesse case é a **Satisfaction**\n",
        "\n",
        "1. **Unnamed: 0**: índice\n",
        "2. **id**: Identificador único de cada passageiro.\n",
        "3. **Gender**: Gênero dos passageiros (Feminino, Masculino).\n",
        "4. **Customer Type**: Tipo de cliente (cliente fiel, cliente desleal).\n",
        "5. **Age**: Idade real dos passageiros.\n",
        "6. **Type of Travel**: Motivo da viagem dos passageiros (Viagem pessoal, Viagem de negócios).\n",
        "7. **Class**: Classe de viagem dos passageiros (Business, Eco, Eco Plus).\n",
        "8. **Flight Distance**: Distância do voo em quilômetros.\n",
        "9. **Inflight wifi service**: Nível de satisfação com o serviço de Wi-Fi a bordo.\n",
        "10. **Departure/Arrival time convenient**: Nível de satisfação com a conveniência dos horários de partida e chegada.\n",
        "11. **Ease of Online booking**: Nível de satisfação com o processo de reserva online.\n",
        "12. **Gate location**: Nível de satisfação com a localização do portão de embarque.\n",
        "13. **Food and drink**: Nível de satisfação com as opções de comida e bebida a bordo.\n",
        "14. **Online boarding**: Nível de satisfação com o processo de embarque online.\n",
        "15. **Seat comfort**: Nível de satisfação com o conforto dos assentos.\n",
        "16. **Inflight entertainment**: Nível de satisfação com o entretenimento oferecido a bordo.\n",
        "17. **On-board service**: Nível de satisfação com o atendimento da tripulação.\n",
        "18. **Leg room service**: Nível de satisfação com o espaço disponível para as pernas.\n",
        "19. **Baggage handling**: Nível de satisfação com o manuseio de bagagens.\n",
        "20. **Checkin service**: Nível de satisfação com o processo de check-in.\n",
        "21. **Inflight service**: Nível de satisfação com o serviço a bordo.\n",
        "22. **Cleanliness**: Nível de satisfação com a limpeza geral do avião.\n",
        "23. **Departure Delay in Minutes**: Tempo de atraso na partida do voo, medido em minutos.\n",
        "24. **Arrival Delay in Minutes**: Tempo de atraso na chegada do voo, medido em minutos.\n",
        "25. **Satisfaction**: Classificação final da satisfação do passageiro (Satisfeito, Neutro ou Insatisfeito).\n",
        "\n",
        "\n",
        "\n",
        "Essas colunas refletem tanto as características pessoais e da viagem quanto as avaliações dos passageiros sobre os serviços oferecidos pela companhia aérea.\n",
        "\n",
        "\n",
        "\n"
      ],
      "metadata": {
        "id": "79Dv6Wt2gx99"
      }
    },
    {
      "cell_type": "markdown",
      "source": [
        "## **Tarefas do Case**\n",
        "\n",
        "O case será dividido em cinco seções:\n",
        "1. Análise Preliminar dos Dados:\n",
        "Nessa seção, é esperado que o participante realize plotagens de gráficos e apresente medidas descritivas do conjunto de dados, como média, mediana e desvio padrão. É fundamental fazer uma interpretação dos resultados, destacando características importantes, como a distribuição por idade, gênero e tipo de viagem.\n",
        "\n",
        "2. Limpeza e Tratamento de Dados:\n",
        "Os participantes devem sugerir e testar métodos de normalização e padronização, conforme necessário. Além disso, devem abordar o tratamento de dados ausentes e duplicados, utilizando técnicas como a remoção de valores nulos ou a imputação de dados ausentes. É essencial garantir a integridade do conjunto de dados para análises posteriores.\n",
        "\n",
        "3. Escolha e Aplicação do Algoritmo de Classificação:\n",
        "O candidato deve justificar a escolha do algoritmo de classificação utilizado, explicando por que este é apropriado para o problema em questão. Além disso, é esperado que aplique o algoritmo corretamente, detalhando o processo de treinamento no conjunto de dados de treino.\n",
        "\n",
        "4. Avaliação dos Resultados:\n",
        "Espera-se que o participante consiga avaliar o classificador de forma eficaz, utilizando métricas além da acurácia, como precisão, recall e F1-score. A interpretação dos resultados deve ser clara, permitindo que se compreenda o desempenho do modelo em diferentes aspectos.\n",
        "\n",
        "5. Otimização do Modelo:\n",
        "Nesta seção, o candidato deve tentar melhorar os resultados do modelo, aplicando técnicas de ajuste de hiperparâmetros e outras estratégias. É importante que o participante explique o que foi feito e por que essas ações foram escolhidas, discutindo as melhorias obtidas."
      ],
      "metadata": {
        "id": "R5tmUCkbm4o3"
      }
    },
    {
      "cell_type": "markdown",
      "source": [
        "## Bibliotecas\n",
        "\n",
        "Faça a importação de bibliotecas que serão usadas no case"
      ],
      "metadata": {
        "id": "md531ZLyohM3"
      }
    },
    {
      "cell_type": "code",
      "source": [
        "import pandas as pd"
      ],
      "metadata": {
        "id": "lBGnyOKSkw_l"
      },
      "execution_count": null,
      "outputs": []
    },
    {
      "cell_type": "code",
      "execution_count": null,
      "metadata": {
        "id": "MdnDJJBwgLhC"
      },
      "outputs": [],
      "source": [
        "#from google.colab import drive\n",
        "#drive.mount('/content/drive')\n",
        "#df = pd.read_csv('/content/drive/My Drive/datasets/passenger_satisfaction.csv')"
      ]
    },
    {
      "cell_type": "code",
      "source": [
        "df = pd.read_csv('//content//passenger_satisfaction.csv')"
      ],
      "metadata": {
        "id": "TxBy55buU5Tj"
      },
      "execution_count": null,
      "outputs": []
    },
    {
      "cell_type": "code",
      "source": [
        "df.info()"
      ],
      "metadata": {
        "id": "O7EZWBqJg_9z",
        "collapsed": true,
        "colab": {
          "base_uri": "https://localhost:8080/"
        },
        "outputId": "9ad33b79-d26e-4817-af86-ae6cee825807"
      },
      "execution_count": null,
      "outputs": [
        {
          "output_type": "stream",
          "name": "stdout",
          "text": [
            "<class 'pandas.core.frame.DataFrame'>\n",
            "RangeIndex: 103904 entries, 0 to 103903\n",
            "Data columns (total 25 columns):\n",
            " #   Column                             Non-Null Count   Dtype  \n",
            "---  ------                             --------------   -----  \n",
            " 0   Unnamed: 0                         103067 non-null  float64\n",
            " 1   id                                 102871 non-null  float64\n",
            " 2   Gender                             102545 non-null  object \n",
            " 3   Customer Type                      101527 non-null  object \n",
            " 4   Age                                101568 non-null  float64\n",
            " 5   Type of Travel                     101539 non-null  object \n",
            " 6   Class                              101556 non-null  object \n",
            " 7   Flight Distance                    101590 non-null  float64\n",
            " 8   Inflight wifi service              101574 non-null  float64\n",
            " 9   Departure/Arrival time convenient  101600 non-null  float64\n",
            " 10  Ease of Online booking             101500 non-null  float64\n",
            " 11  Gate location                      101588 non-null  float64\n",
            " 12  Food and drink                     101606 non-null  float64\n",
            " 13  Online boarding                    101539 non-null  float64\n",
            " 14  Seat comfort                       101609 non-null  float64\n",
            " 15  Inflight entertainment             101510 non-null  float64\n",
            " 16  On-board service                   101590 non-null  float64\n",
            " 17  Leg room service                   101512 non-null  float64\n",
            " 18  Baggage handling                   101531 non-null  float64\n",
            " 19  Checkin service                    101518 non-null  float64\n",
            " 20  Inflight service                   101553 non-null  float64\n",
            " 21  Cleanliness                        101535 non-null  float64\n",
            " 22  Departure Delay in Minutes         101547 non-null  float64\n",
            " 23  Arrival Delay in Minutes           101227 non-null  float64\n",
            " 24  satisfaction                       101542 non-null  object \n",
            "dtypes: float64(20), object(5)\n",
            "memory usage: 19.8+ MB\n"
          ]
        }
      ]
    },
    {
      "cell_type": "code",
      "source": [
        "#valores_nulos = df.isnull().sum() ## REMOVER DPS\n",
        "#print(valores_nulos[valores_nulos > 0])"
      ],
      "metadata": {
        "colab": {
          "base_uri": "https://localhost:8080/"
        },
        "collapsed": true,
        "id": "XSIz-P8ZB3e8",
        "outputId": "8a586fe8-0790-4d7b-f297-49c1c4afdb51"
      },
      "execution_count": null,
      "outputs": [
        {
          "output_type": "stream",
          "name": "stdout",
          "text": [
            "Unnamed: 0                            837\n",
            "id                                   1033\n",
            "Gender                               1359\n",
            "Customer Type                        2377\n",
            "Age                                  2336\n",
            "Type of Travel                       2365\n",
            "Class                                2348\n",
            "Flight Distance                      2314\n",
            "Inflight wifi service                2330\n",
            "Departure/Arrival time convenient    2304\n",
            "Ease of Online booking               2404\n",
            "Gate location                        2316\n",
            "Food and drink                       2298\n",
            "Online boarding                      2365\n",
            "Seat comfort                         2295\n",
            "Inflight entertainment               2394\n",
            "On-board service                     2314\n",
            "Leg room service                     2392\n",
            "Baggage handling                     2373\n",
            "Checkin service                      2386\n",
            "Inflight service                     2351\n",
            "Cleanliness                          2369\n",
            "Departure Delay in Minutes           2357\n",
            "Arrival Delay in Minutes             2677\n",
            "satisfaction                         2362\n",
            "dtype: int64\n"
          ]
        }
      ]
    },
    {
      "cell_type": "markdown",
      "source": [
        "## <b>Seção 1: Descreva os Dados</b>\n",
        "\n",
        "A primeira etapa do case é descrever os dados do dataset.\n",
        "\n",
        "Descreva não apenas as características do dataset mas também as características de cada coluna. Mostre o tipo das colunas que julgar importante e verifique a corretude de dados de cada uma.\n",
        "\n",
        "<b>Por exemplo:</b> Avaliar se a coluna de 'Gender' é uma string (texto) e a 'Age' é um int (número inteiro).\n",
        "\n",
        "\n",
        "Faça uma análise númerica (média, mediana, moda, maxímo, mínimo, etc) de algumas colunas quantitativas."
      ],
      "metadata": {
        "id": "jG2xDp5ALh0Z"
      }
    },
    {
      "cell_type": "code",
      "source": [
        "# =========== TODO ==========="
      ],
      "metadata": {
        "id": "SW9jfqZ8VGI6"
      },
      "execution_count": null,
      "outputs": []
    },
    {
      "cell_type": "markdown",
      "source": [
        "### <b>Seção 1.5: Tratamento de dados</b>\n",
        "\n",
        "Mostre quantos dados nulos o dataset possuí.\n",
        "\n",
        "\n",
        "Trate o dataset de alguma forma, explique a forma que você escolher para isso.\n",
        "\n",
        "Realize One-hot Enconding nas variáveis categóricas."
      ],
      "metadata": {
        "id": "wxBcJUIqghv8"
      }
    },
    {
      "cell_type": "code",
      "source": [
        "# =========== TODO ==========="
      ],
      "metadata": {
        "id": "hq59sO8mVKBP"
      },
      "execution_count": null,
      "outputs": []
    },
    {
      "cell_type": "markdown",
      "source": [
        "## <b>Seção 2: Visualização dos Dados</b>\n",
        "\n",
        "Escolha 4 colunas para representar os dados gráficamente. Escolha o tipo de gráfico de acordo com o que cada coluna escolhida representa.\n",
        "\n",
        "Como sugestão, você pode utilizar a biblioteca Matplotlib ou a Seaborn.\n",
        "\n"
      ],
      "metadata": {
        "id": "sAFo6iADcjxO"
      }
    },
    {
      "cell_type": "code",
      "source": [
        "# =========== TODO ==========="
      ],
      "metadata": {
        "id": "XCvBdh5PVNOL"
      },
      "execution_count": null,
      "outputs": []
    },
    {
      "cell_type": "markdown",
      "source": [
        "## **Seção 3: Escolha e Aplicação do Algoritmo de Classificação**\n",
        "\n",
        "A escolha do algoritmo é fundamental para o sucesso do modelo.\n",
        "\n",
        "Escolha um algoritmo de classificação que você considere adequado para o conjunto de dados de satisfação dos passageiros.\n",
        "\n",
        "*Fique à vontade para escolher o modelo que preferir, algumas opções incluem: Árvore de Decisão,\n",
        "Random Forest, KNN, etc..*\n",
        "\n",
        "Justificação: Em um comentário, explique por que você escolheu esse algoritmo. Considere:\n",
        "\n",
        "*   a natureza dos dados;\n",
        "*   a complexidade do modelo;\n",
        "*   resultados esperados.\n"
      ],
      "metadata": {
        "id": "CvzTU7c9rNy0"
      }
    },
    {
      "cell_type": "code",
      "source": [
        "# =========== TODO ==========="
      ],
      "metadata": {
        "id": "Z43LwY2GhBe2"
      },
      "execution_count": null,
      "outputs": []
    },
    {
      "cell_type": "markdown",
      "source": [
        "**3.1**\n",
        "Faça a divisão do conjunto de dados em conjunto de treinamento do modelo e conjunto de teste. Pode utilizar o método train_test_split() caso queira"
      ],
      "metadata": {
        "id": "hJz_JXIlVnS5"
      }
    },
    {
      "cell_type": "code",
      "source": [
        "# =========== TODO ==========="
      ],
      "metadata": {
        "id": "nIgItY3jV50Q"
      },
      "execution_count": null,
      "outputs": []
    },
    {
      "cell_type": "markdown",
      "source": [
        "**3.2**\n",
        "Aplique o algoritmo escolhido nos dados. Importe as bibliotecas necessárias e crie uma instância do modelo. Treine o modelo usando o conjunto de dados de treinamento."
      ],
      "metadata": {
        "id": "XQLSe-pauLvG"
      }
    },
    {
      "cell_type": "code",
      "source": [
        "[] # =========== TODO ==========="
      ],
      "metadata": {
        "id": "AxUPAFr0uQp4"
      },
      "execution_count": null,
      "outputs": []
    },
    {
      "cell_type": "markdown",
      "source": [
        "**3.3**\n",
        "Faça Previsões\n",
        "Utilize o modelo treinado para fazer previsões sobre os dados de teste.\n",
        "\n",
        "```\n",
        "# y_pred = modelo.predict(X_test)\n",
        "```\n",
        "\n",
        "\n",
        "\n"
      ],
      "metadata": {
        "id": "2aAYazffuz4k"
      }
    },
    {
      "cell_type": "code",
      "source": [
        "[] # =========== TODO ==========="
      ],
      "metadata": {
        "id": "DGmd7Tzcuz4l"
      },
      "execution_count": null,
      "outputs": []
    },
    {
      "cell_type": "markdown",
      "source": [
        "## **Seção 4: Avaliação dos Resultados**\n",
        "\n",
        "Avaliar o desempenho do modelo é crucial.Utilize métricas como acurácia, precisão, recall e F1-score para avaliar o modelo. Calcule também a matriz de confusão para visualizar o desempenho.\n",
        "\n",
        "\n",
        "Interpretação dos Resultados: Em um comentário, discuta os resultados obtidos. O que as métricas indicam sobre o desempenho do seu modelo? Como você poderia melhorar?"
      ],
      "metadata": {
        "id": "aruXDP_3vdTK"
      }
    },
    {
      "cell_type": "code",
      "source": [
        "[ ] # =========== TODO ==========="
      ],
      "metadata": {
        "id": "IcNJrAlgvPQ4"
      },
      "execution_count": null,
      "outputs": []
    },
    {
      "cell_type": "markdown",
      "source": [
        "## **Seção 5: Otimização do Modelo**\n",
        "\n",
        "A otimização do modelo é essencial para melhorar seu desempenho. O candidato deve implementar técnicas como ajuste de hiperparâmetros e justificar suas escolhas.\n",
        "\n",
        "Após a otimização, reavalie o modelo usando as mesmas métricas da Seção 4. Compare os resultados antes e depois da otimização e discuta as melhorias obtidas.\n",
        "\n",
        "Conclua discutindo o que as métricas revelam sobre o modelo otimizado e as melhorias obtidas."
      ],
      "metadata": {
        "id": "tC4sC_U_wBSC"
      }
    },
    {
      "cell_type": "code",
      "source": [
        "[ ] # =========== TODO ===========\n"
      ],
      "metadata": {
        "id": "NlhCQ7n37W70"
      },
      "execution_count": null,
      "outputs": []
    },
    {
      "cell_type": "code",
      "source": [],
      "metadata": {
        "id": "JhfKEju-x1Xs"
      },
      "execution_count": null,
      "outputs": []
    }
  ]
}